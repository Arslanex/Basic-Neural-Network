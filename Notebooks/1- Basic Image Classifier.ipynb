{
 "cells": [
  {
   "cell_type": "markdown",
   "source": [
    "In this part we will see how should we prepare our image for classification and how to create a basic classifier. We will use 3x3 images in gray scale."
   ],
   "metadata": {
    "collapsed": false
   }
  },
  {
   "cell_type": "markdown",
   "source": [
    "**Vertical Image**\n",
    "<img height=\"150\" src=\"../Data/Train/Vertical.png\" width=\"150\"/>\n",
    "\n",
    "**Horizontal Image**\n",
    "<img height=\"150\" src=\"../Data/Train/Horizontal.png\" width=\"150\"/>"
   ],
   "metadata": {
    "collapsed": false
   }
  },
  {
   "cell_type": "raw",
   "source": [
    "First at all we import our OpenCV library"
   ],
   "metadata": {
    "collapsed": false,
    "pycharm": {
     "name": "#%% raw\n"
    }
   }
  },
  {
   "cell_type": "code",
   "execution_count": 1,
   "outputs": [],
   "source": [
    "import cv2 as cv"
   ],
   "metadata": {
    "collapsed": false,
    "pycharm": {
     "name": "#%%\n"
    }
   }
  },
  {
   "cell_type": "markdown",
   "source": [
    "Next we pull images from file directory in gray scale"
   ],
   "metadata": {
    "collapsed": false
   }
  },
  {
   "cell_type": "code",
   "execution_count": 2,
   "outputs": [],
   "source": [
    "vertical = cv.imread(\"../Data/Train/Vertical.png\", cv.IMREAD_GRAYSCALE)\n",
    "horizontal = cv.imread(\"../Data/Train/Horizontal.png\", cv.IMREAD_GRAYSCALE)"
   ],
   "metadata": {
    "collapsed": false,
    "pycharm": {
     "name": "#%%\n"
    }
   }
  },
  {
   "cell_type": "markdown",
   "source": [
    "Now lets take a look at our images, if look at our images shape with shape()\n",
    "function we will see that our images are 3x3 matrix and has no RGB channel."
   ],
   "metadata": {
    "collapsed": false
   }
  },
  {
   "cell_type": "code",
   "execution_count": 3,
   "outputs": [
    {
     "name": "stdout",
     "output_type": "stream",
     "text": [
      "Shape of vertical image is  (3, 3)\n",
      "Shape of horizontal image is  (3, 3)\n"
     ]
    }
   ],
   "source": [
    "print(\"Shape of vertical image is \", vertical.shape)\n",
    "print(\"Shape of horizontal image is \", horizontal.shape)"
   ],
   "metadata": {
    "collapsed": false,
    "pycharm": {
     "name": "#%%\n"
    }
   }
  },
  {
   "cell_type": "markdown",
   "source": [
    "If we look at the pixel values of our images, we can see white and black lines. If a pixel holds the value 0, it is white, if a pixel holds the value 255, it is black."
   ],
   "metadata": {
    "collapsed": false
   }
  },
  {
   "cell_type": "code",
   "execution_count": 4,
   "outputs": [
    {
     "name": "stdout",
     "output_type": "stream",
     "text": [
      "--- VERTICAL ---\n",
      " [[  0 255   0]\n",
      " [  0 255   0]\n",
      " [  0 255   0]]\n",
      "\n",
      "--- HORIZONTAL ---\n",
      " [[  0   0   0]\n",
      " [255 255 255]\n",
      " [  0   0   0]]\n"
     ]
    }
   ],
   "source": [
    "print(\"--- VERTICAL ---\\n\",vertical)\n",
    "print(\"\\n--- HORIZONTAL ---\\n\",horizontal)"
   ],
   "metadata": {
    "collapsed": false,
    "pycharm": {
     "name": "#%%\n"
    }
   }
  },
  {
   "cell_type": "markdown",
   "source": [
    "In later parts we will make mathematical calculations for classification. Working with values between 0 and 255 could be difficult and confusing. Because of that we will compress the pixel values between 0 and 255, to 0 and 1"
   ],
   "metadata": {
    "collapsed": false
   }
  },
  {
   "cell_type": "code",
   "execution_count": 5,
   "outputs": [],
   "source": [
    "vertical = vertical/255\n",
    "horizontal = horizontal/255"
   ],
   "metadata": {
    "collapsed": false,
    "pycharm": {
     "name": "#%%\n"
    }
   }
  },
  {
   "cell_type": "markdown",
   "source": [
    "If we take a look at our new pixel values we can see pixels holding the value 255 change their value to 1"
   ],
   "metadata": {
    "collapsed": false
   }
  },
  {
   "cell_type": "code",
   "execution_count": 6,
   "outputs": [
    {
     "name": "stdout",
     "output_type": "stream",
     "text": [
      "--- VERTICAL ---\n",
      " [[0. 1. 0.]\n",
      " [0. 1. 0.]\n",
      " [0. 1. 0.]]\n",
      "\n",
      "--- HORIZONTAL ---\n",
      " [[0. 0. 0.]\n",
      " [1. 1. 1.]\n",
      " [0. 0. 0.]]\n"
     ]
    }
   ],
   "source": [
    "print(\"--- VERTICAL ---\\n\",vertical)\n",
    "print(\"\\n--- HORIZONTAL ---\\n\",horizontal)"
   ],
   "metadata": {
    "collapsed": false,
    "pycharm": {
     "name": "#%%\n"
    }
   }
  },
  {
   "cell_type": "markdown",
   "source": [
    "Our final step of image preparation is flattening the image. Flatten mean is turning image matrix to  row matrix. So the classifier can work with pixels one by one."
   ],
   "metadata": {
    "collapsed": false
   }
  },
  {
   "cell_type": "code",
   "execution_count": 7,
   "outputs": [],
   "source": [
    "flattenV = vertical.flatten()\n",
    "flattenH = horizontal.flatten()"
   ],
   "metadata": {
    "collapsed": false,
    "pycharm": {
     "name": "#%%\n"
    }
   }
  },
  {
   "cell_type": "markdown",
   "source": [
    "Let's look at our images final form. (flatten form)"
   ],
   "metadata": {
    "collapsed": false
   }
  },
  {
   "cell_type": "code",
   "execution_count": 8,
   "outputs": [
    {
     "name": "stdout",
     "output_type": "stream",
     "text": [
      "Flatten form of vertical is : \n",
      " [0. 1. 0. 0. 1. 0. 0. 1. 0.]\n",
      "\n",
      "Flatten form of horizontal is :\n",
      " [0. 0. 0. 1. 1. 1. 0. 0. 0.]\n"
     ]
    }
   ],
   "source": [
    "print(\"Flatten form of vertical is : \\n\", flattenV)\n",
    "print(\"\\nFlatten form of horizontal is :\\n\", flattenH)"
   ],
   "metadata": {
    "collapsed": false,
    "pycharm": {
     "name": "#%%\n"
    }
   }
  },
  {
   "cell_type": "markdown",
   "source": [
    "Now lets start creating classifier, at first we should have a filter. In the cell below I created a filter. In start the filter had random values but after every calculations I changed the values as it requires by hand."
   ],
   "metadata": {
    "collapsed": false
   }
  },
  {
   "cell_type": "code",
   "execution_count": 9,
   "outputs": [],
   "source": [
    "filter = [1, -1, 1, -1, 1, -1, 1, 1, 1]"
   ],
   "metadata": {
    "collapsed": false,
    "pycharm": {
     "name": "#%%\n"
    }
   }
  },
  {
   "cell_type": "markdown",
   "source": [
    "Now for classification I multiply filter values with pixel values and I took sum of it. If the result value for vertical and horizontal were the same I changed the filter and try again until result value for horizontal and vertical is different"
   ],
   "metadata": {
    "collapsed": false
   }
  },
  {
   "cell_type": "code",
   "execution_count": 10,
   "outputs": [],
   "source": [
    "resultV = sum(flattenV * filter)\n",
    "resultH = sum(flattenH * filter)"
   ],
   "metadata": {
    "collapsed": false,
    "pycharm": {
     "name": "#%%\n"
    }
   }
  },
  {
   "cell_type": "markdown",
   "source": [
    "Let's print the result values of our images"
   ],
   "metadata": {
    "collapsed": false
   }
  },
  {
   "cell_type": "code",
   "execution_count": 11,
   "outputs": [
    {
     "name": "stdout",
     "output_type": "stream",
     "text": [
      "After applying the filter vertical image value is,  1.0\n",
      "After applying the filter horizontal image value is,  -1.0\n"
     ]
    }
   ],
   "source": [
    "print(\"After applying the filter vertical image value is, \",resultV)\n",
    "print(\"After applying the filter horizontal image value is, \",resultH)"
   ],
   "metadata": {
    "collapsed": false,
    "pycharm": {
     "name": "#%%\n"
    }
   }
  },
  {
   "cell_type": "markdown",
   "source": [
    "At the end of all we have a filter for classify our images. If we use the filter on image and result of it is 1.0 it means our image is vertical and if the result is -1.0 image is horizontal. Next part we will create a script that creates and modify filter automatically."
   ],
   "metadata": {
    "collapsed": false
   }
  }
 ],
 "metadata": {
  "kernelspec": {
   "display_name": "Python 3",
   "language": "python",
   "name": "python3"
  },
  "language_info": {
   "codemirror_mode": {
    "name": "ipython",
    "version": 2
   },
   "file_extension": ".py",
   "mimetype": "text/x-python",
   "name": "python",
   "nbconvert_exporter": "python",
   "pygments_lexer": "ipython2",
   "version": "2.7.6"
  }
 },
 "nbformat": 4,
 "nbformat_minor": 0
}