{
 "cells": [
  {
   "cell_type": "markdown",
   "source": [
    "This is the final structure upgrade for us. In this part we will gather together all of our functions to class. This class we'll be our layer class."
   ],
   "metadata": {
    "collapsed": false
   }
  },
  {
   "cell_type": "code",
   "execution_count": 1,
   "metadata": {
    "collapsed": true
   },
   "outputs": [],
   "source": [
    "import cv2 as cv\n",
    "import numpy as np"
   ]
  },
  {
   "cell_type": "code",
   "execution_count": 2,
   "outputs": [],
   "source": [
    "def sigmoid(x):\n",
    "    return 1/(1+np.exp(-x))"
   ],
   "metadata": {
    "collapsed": false,
    "pycharm": {
     "name": "#%%\n"
    }
   }
  },
  {
   "cell_type": "code",
   "execution_count": 3,
   "outputs": [],
   "source": [
    "def sigmoid_der(x):\n",
    "    return sigmoid(x)*(1-sigmoid(x))"
   ],
   "metadata": {
    "collapsed": false,
    "pycharm": {
     "name": "#%%\n"
    }
   }
  },
  {
   "cell_type": "code",
   "execution_count": 4,
   "outputs": [],
   "source": [
    "def prepare_the_image(imgPath):\n",
    "    img = cv.imread(imgPath, cv.IMREAD_GRAYSCALE)\n",
    "    img = img/255\n",
    "    flatten = img.flatten()\n",
    "    return flatten"
   ],
   "metadata": {
    "collapsed": false,
    "pycharm": {
     "name": "#%%\n"
    }
   }
  },
  {
   "cell_type": "code",
   "execution_count": 5,
   "outputs": [],
   "source": [
    "flattenV = prepare_the_image(\"../Data/Train/Vertical.png\")\n",
    "flattenH = prepare_the_image(\"../Data/Train/Horizontal.png\")"
   ],
   "metadata": {
    "collapsed": false,
    "pycharm": {
     "name": "#%%\n"
    }
   }
  },
  {
   "cell_type": "code",
   "execution_count": 6,
   "outputs": [],
   "source": [
    "dataset = np.array([flattenV, flattenH])\n",
    "labels = np.array([[0, 1]]).T"
   ],
   "metadata": {
    "collapsed": false,
    "pycharm": {
     "name": "#%%\n"
    }
   }
  },
  {
   "cell_type": "markdown",
   "source": [
    "Let's start creating your layer class. This class will be have a constructor method that will create a random weights. We will only give size of the matrix. Rest is  same"
   ],
   "metadata": {
    "collapsed": false
   }
  },
  {
   "cell_type": "code",
   "execution_count": 7,
   "outputs": [],
   "source": [
    "class Layer:\n",
    "    def __init__(self, input_size, output_size):\n",
    "        self.weights = np.random.rand(input_size, output_size)\n",
    "        print(\"Starting weights are . . .\")\n",
    "        print(self.weights)\n",
    "\n",
    "    def feed_forward(self, input):\n",
    "        weighted_sum = np.dot(input, self.weights)\n",
    "        output = sigmoid(weighted_sum)\n",
    "        return output\n",
    "\n",
    "    def back_propagation(self, input, output, labels):\n",
    "        error = output - labels\n",
    "        adjustment = error * sigmoid_der(output)\n",
    "        weights_update = np.dot(input.T, adjustment)\n",
    "        self.weights -= weights_update"
   ],
   "metadata": {
    "collapsed": false,
    "pycharm": {
     "name": "#%%\n"
    }
   }
  },
  {
   "cell_type": "code",
   "execution_count": 8,
   "outputs": [
    {
     "name": "stdout",
     "output_type": "stream",
     "text": [
      "Starting weights are . . .\n",
      "[[0.09508795]\n",
      " [0.71008363]\n",
      " [0.05492891]\n",
      " [0.09920901]\n",
      " [0.67865868]\n",
      " [0.50071822]\n",
      " [0.23306695]\n",
      " [0.35551141]\n",
      " [0.11542517]]\n"
     ]
    }
   ],
   "source": [
    "layer1 = Layer(9, 1)"
   ],
   "metadata": {
    "collapsed": false,
    "pycharm": {
     "name": "#%%\n"
    }
   }
  },
  {
   "cell_type": "code",
   "execution_count": 9,
   "outputs": [],
   "source": [
    "for i in range(100):\n",
    "    output = layer1.feed_forward(dataset)\n",
    "    layer1.back_propagation(dataset, output, labels)"
   ],
   "metadata": {
    "collapsed": false,
    "pycharm": {
     "name": "#%%\n"
    }
   }
  },
  {
   "cell_type": "code",
   "execution_count": 10,
   "outputs": [
    {
     "name": "stdout",
     "output_type": "stream",
     "text": [
      "Input dataset :: \n",
      " [[0. 1. 0. 0. 1. 0. 0. 1. 0.]\n",
      " [0. 0. 0. 1. 1. 1. 0. 0. 0.]]\n"
     ]
    }
   ],
   "source": [
    "print(\"Input dataset :: \\n\", dataset)"
   ],
   "metadata": {
    "collapsed": false,
    "pycharm": {
     "name": "#%%\n"
    }
   }
  },
  {
   "cell_type": "code",
   "execution_count": 11,
   "outputs": [
    {
     "name": "stdout",
     "output_type": "stream",
     "text": [
      "Labels are :: \n",
      " [[0]\n",
      " [1]]\n"
     ]
    }
   ],
   "source": [
    "print(\"Labels are :: \\n\", labels)"
   ],
   "metadata": {
    "collapsed": false,
    "pycharm": {
     "name": "#%%\n"
    }
   }
  },
  {
   "cell_type": "code",
   "execution_count": 12,
   "outputs": [
    {
     "name": "stdout",
     "output_type": "stream",
     "text": [
      "Final weights are . . . \n",
      " [[ 0.09508795]\n",
      " [-1.68789331]\n",
      " [ 0.05492891]\n",
      " [ 1.68568376]\n",
      " [-0.1328435 ]\n",
      " [ 2.08719298]\n",
      " [ 0.23306695]\n",
      " [-2.04246553]\n",
      " [ 0.11542517]]\n"
     ]
    }
   ],
   "source": [
    "print(\"Final weights are . . . \\n\", layer1.weights)"
   ],
   "metadata": {
    "collapsed": false,
    "pycharm": {
     "name": "#%%\n"
    }
   }
  }
 ],
 "metadata": {
  "kernelspec": {
   "display_name": "Python 3",
   "language": "python",
   "name": "python3"
  },
  "language_info": {
   "codemirror_mode": {
    "name": "ipython",
    "version": 2
   },
   "file_extension": ".py",
   "mimetype": "text/x-python",
   "name": "python",
   "nbconvert_exporter": "python",
   "pygments_lexer": "ipython2",
   "version": "2.7.6"
  }
 },
 "nbformat": 4,
 "nbformat_minor": 0
}