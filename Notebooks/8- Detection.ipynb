{
 "cells": [
  {
   "cell_type": "markdown",
   "source": [
    "So we basicly use forward propagation in our network for detection. We have trained the network for vertical and horizontal images. Now with those weights i will try to detect an asymmetric vertical image. If the output is vertical we have created fully functional neural network."
   ],
   "metadata": {
    "collapsed": false
   }
  },
  {
   "cell_type": "code",
   "execution_count": 7,
   "metadata": {
    "collapsed": true
   },
   "outputs": [],
   "source": [
    "import cv2 as cv"
   ]
  },
  {
   "cell_type": "code",
   "execution_count": 8,
   "outputs": [],
   "source": [
    "def prepare_the_image(imgPath):\n",
    "    img = cv.imread(imgPath, cv.IMREAD_GRAYSCALE)\n",
    "    img = cv.resize(img, (3,3), interpolation=0)\n",
    "    img = img/255\n",
    "    flatten = img.flatten()\n",
    "    return flatten"
   ],
   "metadata": {
    "collapsed": false,
    "pycharm": {
     "name": "#%%\n"
    }
   }
  },
  {
   "cell_type": "code",
   "execution_count": 9,
   "outputs": [],
   "source": [
    "test1 = prepare_the_image(\"../Data/Test/asymmetric_vertical.png\")"
   ],
   "metadata": {
    "collapsed": false,
    "pycharm": {
     "name": "#%%\n"
    }
   }
  },
  {
   "cell_type": "code",
   "execution_count": 10,
   "outputs": [],
   "source": [
    "weights = [0.60305511, -1.73935509, 0.25934794, 2.07534286, -0.34300907, 1.89875167, 0.75265044, -1.76948647, 0.38080277]"
   ],
   "metadata": {
    "collapsed": false,
    "pycharm": {
     "name": "#%%\n"
    }
   }
  },
  {
   "cell_type": "code",
   "execution_count": 11,
   "outputs": [],
   "source": [
    "convolution = sum(test1 * weights)"
   ],
   "metadata": {
    "collapsed": false,
    "pycharm": {
     "name": "#%%\n"
    }
   }
  },
  {
   "cell_type": "code",
   "execution_count": 12,
   "outputs": [
    {
     "name": "stdout",
     "output_type": "stream",
     "text": [
      "VERTICAL\n"
     ]
    }
   ],
   "source": [
    "if convolution < 0.5:\n",
    "    print(\"VERTICAL\")\n",
    "elif convolution > 0.5:\n",
    "    print(\"HORIZONTAL\")"
   ],
   "metadata": {
    "collapsed": false,
    "pycharm": {
     "name": "#%%\n"
    }
   }
  }
 ],
 "metadata": {
  "kernelspec": {
   "display_name": "Python 3",
   "language": "python",
   "name": "python3"
  },
  "language_info": {
   "codemirror_mode": {
    "name": "ipython",
    "version": 2
   },
   "file_extension": ".py",
   "mimetype": "text/x-python",
   "name": "python",
   "nbconvert_exporter": "python",
   "pygments_lexer": "ipython2",
   "version": "2.7.6"
  }
 },
 "nbformat": 4,
 "nbformat_minor": 0
}