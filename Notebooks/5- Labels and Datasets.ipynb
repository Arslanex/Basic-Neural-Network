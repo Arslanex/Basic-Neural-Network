{
 "cells": [
  {
   "cell_type": "code",
   "execution_count": 1,
   "metadata": {
    "collapsed": true
   },
   "outputs": [],
   "source": [
    "import cv2 as cv\n",
    "import numpy as np"
   ]
  },
  {
   "cell_type": "code",
   "execution_count": 2,
   "outputs": [],
   "source": [
    "def prepare_the_image(imgPath):\n",
    "    img = cv.imread(imgPath, cv.IMREAD_GRAYSCALE)\n",
    "    img = img/255\n",
    "    flatten = img.flatten()\n",
    "    return flatten"
   ],
   "metadata": {
    "collapsed": false,
    "pycharm": {
     "name": "#%%\n"
    }
   }
  },
  {
   "cell_type": "code",
   "execution_count": 3,
   "outputs": [],
   "source": [
    "def sigmoid(x):\n",
    "    return 1 / (1 + np.exp(-x))\n",
    "\n",
    "def sigmoid_der(x):\n",
    "    return sigmoid(x) * (1 - sigmoid(x))"
   ],
   "metadata": {
    "collapsed": false,
    "pycharm": {
     "name": "#%%\n"
    }
   }
  },
  {
   "cell_type": "code",
   "execution_count": 4,
   "outputs": [],
   "source": [
    "flattenV = prepare_the_image(\"../Data/Train/Vertical.png\")\n",
    "flattenH = prepare_the_image(\"../Data/Train/Horizontal.png\")"
   ],
   "metadata": {
    "collapsed": false,
    "pycharm": {
     "name": "#%%\n"
    }
   }
  },
  {
   "cell_type": "markdown",
   "source": [
    "Now in this part we specify our image and the value neural network should return as."
   ],
   "metadata": {
    "collapsed": false
   }
  },
  {
   "cell_type": "code",
   "execution_count": 5,
   "outputs": [],
   "source": [
    "dataSet = np.array([flattenV, flattenH])\n",
    "labels = np.array([0, 1])"
   ],
   "metadata": {
    "collapsed": false,
    "pycharm": {
     "name": "#%%\n"
    }
   }
  },
  {
   "cell_type": "markdown",
   "source": [
    "> For Vertical Image result value should be \" 0 \"\n",
    "\n",
    "> For Horizontal Image result value should be \" 1 \""
   ],
   "metadata": {
    "collapsed": false
   }
  },
  {
   "cell_type": "code",
   "execution_count": 6,
   "outputs": [],
   "source": [
    "weights = np.array([0.5, 0.5, 0.5, 0.5, 0.5, 0.5, 0.5, 0.5, 0.5])"
   ],
   "metadata": {
    "collapsed": false,
    "pycharm": {
     "name": "#%%\n"
    }
   }
  },
  {
   "cell_type": "markdown",
   "source": [
    "Now we will create a loop for rearranging weights. Actually we are not going to do something to different from before. This time we will do for both vertical and horizontal images."
   ],
   "metadata": {
    "collapsed": false
   }
  },
  {
   "cell_type": "markdown",
   "source": [
    "Let me explain step by step:\n",
    "First I started ten lap loop. After that I processed the horizontal and then vertical images respectively. First image is vertical image because it has 0 index and horizontal has 1. I calculated convolution value with that result and error. Later calculated adjustment with error value. Then I rearrange weights. Then I did the same things for horizontal. Then second loop starts and everything starts again"
   ],
   "metadata": {
    "collapsed": false
   }
  },
  {
   "cell_type": "code",
   "execution_count": 7,
   "outputs": [
    {
     "name": "stdout",
     "output_type": "stream",
     "text": [
      "# LAP :  1  #\n",
      "LABEL ::  0\n",
      "Convolution ::  1.5\n",
      "Error Value ::  0.8175744761936437\n",
      "Adjustment Rate ::  0.17371175481161166\n",
      "LABEL ::  1\n",
      "Convolution ::  1.3262882451883884\n",
      "Error Value ::  0.20977399578576217\n",
      "Adjustment Rate ::  0.04503872017129386\n",
      "Weights Value ::  [0.5, 0.32628824518838834, 0.5, 0.45496127982870616, 0.2812495250170945, 0.45496127982870616, 0.5, 0.32628824518838834, 0.5]\n",
      "\n",
      "# LAP :  2  #\n",
      "LABEL ::  0\n",
      "Convolution ::  0.9338260153938711\n",
      "Error Value ::  0.7178508559867346\n",
      "Adjustment Rate ::  0.15819281377601535\n",
      "LABEL ::  1\n",
      "Convolution ::  1.0329792708984915\n",
      "Error Value ::  0.2625069181863139\n",
      "Adjustment Rate ::  0.057453920076235274\n",
      "Weights Value ::  [0.5, 0.168095431412373, 0.5, 0.39750735975247087, 0.06560279116484387, 0.39750735975247087, 0.5, 0.168095431412373, 0.5]\n",
      "\n",
      "# LAP :  3  #\n",
      "LABEL ::  0\n",
      "Convolution ::  0.4017936539895898\n",
      "Error Value ::  0.5991185283734338\n",
      "Adjustment Rate ::  0.1371040546701723\n",
      "LABEL ::  1\n",
      "Convolution ::  0.7235134559996133\n",
      "Error Value ::  0.3266197656783941\n",
      "Adjustment Rate ::  0.0730556342872412\n",
      "Weights Value ::  [0.5, 0.030991376742200677, 0.5, 0.32445172546522966, -0.14455689779256964, 0.32445172546522966, 0.5, 0.030991376742200677, 0.5]\n",
      "\n",
      "# LAP :  4  #\n",
      "LABEL ::  0\n",
      "Convolution ::  -0.08257414430816828\n",
      "Error Value ::  0.47936818574134893\n",
      "Adjustment Rate ::  0.1132126494351408\n",
      "LABEL ::  1\n",
      "Convolution ::  0.39113390370274886\n",
      "Error Value ::  0.403444366297937\n",
      "Adjustment Rate ::  0.09239412289824875\n",
      "Weights Value ::  [0.5, -0.08222127269294012, 0.5, 0.2320576025669809, -0.35016367012595917, 0.2320576025669809, 0.5, -0.08222127269294012, 0.5]\n",
      "\n",
      "# LAP :  5  #\n",
      "LABEL ::  0\n",
      "Convolution ::  -0.5146062155118394\n",
      "Error Value ::  0.3741143434027006\n",
      "Adjustment Rate ::  0.09033083776673395\n",
      "LABEL ::  1\n",
      "Convolution ::  0.023620697241268696\n",
      "Error Value ::  0.4940951002341346\n",
      "Adjustment Rate ::  0.11594542782559768\n",
      "Weights Value ::  [0.5, -0.17255211045967406, 0.5, 0.11611217474138323, -0.5564399357182908, 0.11611217474138323, 0.5, -0.17255211045967406, 0.5]\n",
      "\n",
      "# LAP :  6  #\n",
      "LABEL ::  0\n",
      "Convolution ::  -0.901544156637639\n",
      "Error Value ::  0.2887332761057717\n",
      "Adjustment Rate ::  0.07069955304511365\n",
      "LABEL ::  1\n",
      "Convolution ::  -0.39491513928063793\n",
      "Error Value ::  0.5974653569500368\n",
      "Adjustment Rate ::  0.14347545540038414\n",
      "Weights Value ::  [0.5, -0.24325166350478772, 0.5, -0.027363280659000913, -0.7706149441637886, -0.027363280659000913, 0.5, -0.24325166350478772, 0.5]\n",
      "\n",
      "# LAP :  7  #\n",
      "LABEL ::  0\n",
      "Convolution ::  -1.257118271173364\n",
      "Error Value ::  0.22147036464863024\n",
      "Adjustment Rate ::  0.0546941700792081\n",
      "LABEL ::  1\n",
      "Convolution ::  -0.8800356755609986\n",
      "Error Value ::  0.7068296138917659\n",
      "Adjustment Rate ::  0.1729641885041947\n",
      "Weights Value ::  [0.5, -0.29794583358399584, 0.5, -0.2003274691631956, -0.9982733027471914, -0.2003274691631956, 0.5, -0.29794583358399584, 0.5]\n",
      "\n",
      "# LAP :  8  #\n",
      "LABEL ::  0\n",
      "Convolution ::  -1.594164969915183\n",
      "Error Value ::  0.16879872148951122\n",
      "Adjustment Rate ::  0.041900503164795544\n",
      "LABEL ::  1\n",
      "Convolution ::  -1.440828744238378\n",
      "Error Value ::  0.8085829544254594\n",
      "Adjustment Rate ::  0.20030530843614852\n",
      "Weights Value ::  [0.5, -0.3398463367487914, 0.5, -0.4006327775993441, -1.2404791143481355, -0.4006327775993441, 0.5, -0.3398463367487914, 0.5]\n",
      "\n",
      "# LAP :  9  #\n",
      "LABEL ::  0\n",
      "Convolution ::  -1.9201717878457183\n",
      "Error Value ::  0.12784241096804314\n",
      "Adjustment Rate ::  0.03183036915398443\n",
      "LABEL ::  1\n",
      "Convolution ::  -2.0735750387008083\n",
      "Error Value ::  0.8883081579628987\n",
      "Adjustment Rate ::  0.22138587048326314\n",
      "Weights Value ::  [0.5, -0.3716767059027758, 0.5, -0.6220186480826073, -1.4936953539853832, -0.6220186480826073, 0.5, -0.3716767059027758, 0.5]\n",
      "\n",
      "# LAP :  10  #\n",
      "LABEL ::  0\n",
      "Convolution ::  -2.237048765790935\n",
      "Error Value ::  0.09647248146232953\n",
      "Adjustment Rate ::  0.024062090823535047\n",
      "LABEL ::  1\n",
      "Convolution ::  -2.761794740974133\n",
      "Error Value ::  0.9405760264142181\n",
      "Adjustment Rate ::  0.2349365430770833\n",
      "Weights Value ::  [0.5, -0.39573879672631085, 0.5, -0.8569551911596907, -1.7526939878860015, -0.8569551911596907, 0.5, -0.39573879672631085, 0.5]\n",
      "\n"
     ]
    }
   ],
   "source": [
    "for i in range(10):\n",
    "    print(\"# LAP : \", i + 1, \" #\")\n",
    "\n",
    "    for image, label in zip(dataSet, labels):\n",
    "        print(\"LABEL :: \",label)\n",
    "\n",
    "        convolution = sum(image * weights)\n",
    "        print(\"Convolution :: \", convolution)\n",
    "\n",
    "        result = sigmoid(convolution)\n",
    "\n",
    "        error = abs(result - label)\n",
    "        print(\"Error Value :: \", error)\n",
    "\n",
    "        adjustment = error * sigmoid_der(result)\n",
    "        print(\"Adjustment Rate :: \", adjustment)\n",
    "\n",
    "        weights -= np.dot(image, adjustment)\n",
    "\n",
    "    print(\"Weights Value :: \", list(weights), end=\"\\n\")\n",
    "    print()"
   ],
   "metadata": {
    "collapsed": false,
    "pycharm": {
     "name": "#%%\n"
    }
   }
  },
  {
   "cell_type": "markdown",
   "source": [
    "**Summary**\n",
    "Error value is calculated based on label. I stated vertical image value should be 0 (as close as it can get in the loop process) and horizontal image value should be 1 (as close as it can get in the loop process) and with this I labeled the value.\n",
    "\n",
    "From start to calculating result and decide the result is as it supposed to be or not is named as *forward propagation*, from there if turning back and rearranging weights is named as *back propagation*"
   ],
   "metadata": {
    "collapsed": false
   }
  }
 ],
 "metadata": {
  "kernelspec": {
   "display_name": "Python 3",
   "language": "python",
   "name": "python3"
  },
  "language_info": {
   "codemirror_mode": {
    "name": "ipython",
    "version": 2
   },
   "file_extension": ".py",
   "mimetype": "text/x-python",
   "name": "python",
   "nbconvert_exporter": "python",
   "pygments_lexer": "ipython2",
   "version": "2.7.6"
  }
 },
 "nbformat": 4,
 "nbformat_minor": 0
}