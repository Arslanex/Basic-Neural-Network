{
 "cells": [
  {
   "cell_type": "markdown",
   "source": [
    "In this part we will create a script creates a filter and modify it as it required. From this file I will use a function to prepare the image for classification."
   ],
   "metadata": {
    "collapsed": false
   }
  },
  {
   "cell_type": "markdown",
   "source": [
    "As always we import our library."
   ],
   "metadata": {
    "collapsed": false
   }
  },
  {
   "cell_type": "code",
   "execution_count": 1,
   "outputs": [],
   "source": [
    "import cv2 as cv\n",
    "import numpy as np"
   ],
   "metadata": {
    "collapsed": false,
    "pycharm": {
     "name": "#%%\n"
    }
   }
  },
  {
   "cell_type": "markdown",
   "source": [
    "Now let's create the function for image preparation."
   ],
   "metadata": {
    "collapsed": false
   }
  },
  {
   "cell_type": "code",
   "execution_count": 2,
   "outputs": [],
   "source": [
    "def prepare_the_image(imgPath):\n",
    "    img = cv.imread(imgPath, cv.IMREAD_GRAYSCALE)\n",
    "    img = img/255\n",
    "    flatten = img.flatten()\n",
    "    return flatten"
   ],
   "metadata": {
    "collapsed": false,
    "pycharm": {
     "name": "#%%\n"
    }
   }
  },
  {
   "cell_type": "markdown",
   "source": [
    "And use function to prepare our images"
   ],
   "metadata": {
    "collapsed": false
   }
  },
  {
   "cell_type": "code",
   "execution_count": 3,
   "outputs": [],
   "source": [
    "flattenV = prepare_the_image(\"../Data/Train/Vertical.png\")\n",
    "flattenH = prepare_the_image(\"../Data/Train/Horizontal.png\")"
   ],
   "metadata": {
    "collapsed": false,
    "pycharm": {
     "name": "#%%\n"
    }
   }
  },
  {
   "cell_type": "markdown",
   "source": [
    "Now let's check our results from our function, if there is a problem we should detect before moving forward"
   ],
   "metadata": {
    "collapsed": false
   }
  },
  {
   "cell_type": "code",
   "execution_count": 4,
   "outputs": [
    {
     "name": "stdout",
     "output_type": "stream",
     "text": [
      "Flatten form of vertical is : \n",
      " [0. 1. 0. 0. 1. 0. 0. 1. 0.]\n",
      "\n",
      "Flatten form of horizontal is :\n",
      " [0. 0. 0. 1. 1. 1. 0. 0. 0.]\n"
     ]
    }
   ],
   "source": [
    "print(\"Flatten form of vertical is : \\n\", flattenV)\n",
    "print(\"\\nFlatten form of horizontal is :\\n\", flattenH)"
   ],
   "metadata": {
    "collapsed": false,
    "pycharm": {
     "name": "#%%\n"
    }
   }
  },
  {
   "cell_type": "markdown",
   "source": [
    "If flatten values of images are right let's continue to creating filter. This time we will determine ranges for filter and script will do the rest pf it"
   ],
   "metadata": {
    "collapsed": false
   }
  },
  {
   "cell_type": "code",
   "execution_count": 5,
   "outputs": [],
   "source": [
    "filter = np.random.randint(-1, 2, size=9)"
   ],
   "metadata": {
    "collapsed": false,
    "pycharm": {
     "name": "#%%\n"
    }
   }
  },
  {
   "cell_type": "markdown",
   "source": [
    "Let's see what the computer has creates as filter"
   ],
   "metadata": {
    "collapsed": false
   }
  },
  {
   "cell_type": "code",
   "execution_count": 6,
   "outputs": [
    {
     "name": "stdout",
     "output_type": "stream",
     "text": [
      "Filter created by computer is,  [ 1  0  1 -1  0  1 -1 -1 -1]\n"
     ]
    }
   ],
   "source": [
    "print(\"Filter created by computer is, \", filter)"
   ],
   "metadata": {
    "collapsed": false,
    "pycharm": {
     "name": "#%%\n"
    }
   }
  },
  {
   "cell_type": "markdown",
   "source": [
    "Now we have filter and the next thing we should do is calculate the result"
   ],
   "metadata": {
    "collapsed": false
   }
  },
  {
   "cell_type": "code",
   "execution_count": 7,
   "outputs": [],
   "source": [
    "convolutionV = sum(flattenV * filter)\n",
    "convolutionH = sum(flattenH * filter)"
   ],
   "metadata": {
    "collapsed": false,
    "pycharm": {
     "name": "#%%\n"
    }
   }
  },
  {
   "cell_type": "code",
   "execution_count": 8,
   "outputs": [
    {
     "name": "stdout",
     "output_type": "stream",
     "text": [
      "ConcolutionV  -1.0\n",
      "ConcolutionH  0.0\n"
     ]
    }
   ],
   "source": [
    "print(\"ConcolutionV \", convolutionV)\n",
    "print(\"ConcolutionH \", convolutionH)"
   ],
   "metadata": {
    "collapsed": false,
    "pycharm": {
     "name": "#%%\n"
    }
   }
  },
  {
   "cell_type": "markdown",
   "source": [
    "Now this is the important part, if convolution values of images are the same we can not use that filter. We should modify(create again) filter until the values aren't same. For that we should create a decision structure to check this."
   ],
   "metadata": {
    "collapsed": false
   }
  },
  {
   "cell_type": "code",
   "execution_count": 9,
   "outputs": [
    {
     "name": "stdout",
     "output_type": "stream",
     "text": [
      "Filter is usable\n",
      "Filter ::  [ 1  0  1 -1  0  1 -1 -1 -1]\n"
     ]
    }
   ],
   "source": [
    "if convolutionV != convolutionH:\n",
    "    print(\"Filter is usable\")\n",
    "    print(\"Filter :: \", filter)\n",
    "else:\n",
    "    print(\"Filter is not usable\")\n",
    "    print(\"Try Again\")"
   ],
   "metadata": {
    "collapsed": false,
    "pycharm": {
     "name": "#%%\n"
    }
   }
  },
  {
   "cell_type": "markdown",
   "source": [
    "Now to complete  this decision structure and the rest should be in a loop that breaks only when it has founded the right filter."
   ],
   "metadata": {
    "collapsed": false
   }
  },
  {
   "cell_type": "code",
   "execution_count": 10,
   "outputs": [
    {
     "name": "stdout",
     "output_type": "stream",
     "text": [
      "Filter value has ben founded.\n"
     ]
    }
   ],
   "source": [
    "while True:\n",
    "    filter = np.random.randint(-1, 2, size=9)\n",
    "\n",
    "    convolutionV = sum(flattenV * filter)\n",
    "    convolutionH = sum(flattenH * filter)\n",
    "\n",
    "    if convolutionV != convolutionH:\n",
    "        print(\"Filter value has ben founded.\")\n",
    "        break\n",
    "    else:\n",
    "        print(\"Trying new filter.\")"
   ],
   "metadata": {
    "collapsed": false,
    "pycharm": {
     "name": "#%%\n"
    }
   }
  }
 ],
 "metadata": {
  "kernelspec": {
   "display_name": "Python 3",
   "language": "python",
   "name": "python3"
  },
  "language_info": {
   "codemirror_mode": {
    "name": "ipython",
    "version": 2
   },
   "file_extension": ".py",
   "mimetype": "text/x-python",
   "name": "python",
   "nbconvert_exporter": "python",
   "pygments_lexer": "ipython2",
   "version": "2.7.6"
  }
 },
 "nbformat": 4,
 "nbformat_minor": 0
}